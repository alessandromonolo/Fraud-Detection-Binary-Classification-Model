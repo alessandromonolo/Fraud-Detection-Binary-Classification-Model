{
 "cells": [
  {
   "cell_type": "markdown",
   "id": "6802140f-11b1-481c-ab36-4807155f09cf",
   "metadata": {},
   "source": [
    "# PROBLEM STATEMENT\n",
    "There is a room with a television and people come in and out of the room to watch it; the television is on only when there is at least one person in the room. \n",
    "\n",
    "For each person that enters the room, we record the start and end time, represented as a two-element array containing the starting time (inclusive) and ending time (exclusive), with times as integers (you can think of hours, or minutes, or any interval you like).\n",
    "\n",
    "We want to know how long the television is on. "
   ]
  },
  {
   "cell_type": "markdown",
   "id": "862b7a66-5446-4ce8-838e-1d43cc845878",
   "metadata": {},
   "source": [
    "## Example\n",
    "For instance, given the list of intervals (1 4), (6 8), (2 4), (7 9), the television is on at times 1, 2, 3 from the first interval, times 6 and 7 from the second interval, times 2 and 3 from the third interval, and times 7 and 8 from the first interval, a total of 6 times the television is on (at times 1, 2, 3, 6, 7 and 8).\n",
    "\n",
    "*gen_intervals* function can generate random intervals"
   ]
  },
  {
   "cell_type": "code",
   "execution_count": 1,
   "id": "0f39854c-1ce7-45b0-8f82-cc6abb603930",
   "metadata": {},
   "outputs": [],
   "source": [
    "from random import randint\n",
    "def gen_intervals(length):\n",
    "    \"\"\"\n",
    "    create random intervals\n",
    "    \"\"\"\n",
    "    intervals = []\n",
    "    for i in range(length):\n",
    "        a = randint(i, i+5)\n",
    "        b = randint(i, i+5)\n",
    "        if a < b :\n",
    "            intervals.append((a, b))\n",
    "        elif b < a:\n",
    "            intervals.append((b, a))\n",
    "        else: # a == b\n",
    "            intervals.append((a, b+1))\n",
    "    return intervals"
   ]
  },
  {
   "cell_type": "markdown",
   "id": "fd2406aa-a627-4e03-b095-a6f5c8feb36f",
   "metadata": {},
   "source": [
    "## Task\n",
    "Your task is to write a python function that takes a list of intervals and returns the number of times at which the television is on. "
   ]
  },
  {
   "cell_type": "code",
   "execution_count": 2,
   "id": "1180714e-594a-4cca-b81a-64346471b55a",
   "metadata": {},
   "outputs": [],
   "source": [
    "def total_tv_on_time(intervals):\n",
    "    if not intervals:\n",
    "        return 0\n",
    "    # Sort intervals by their start times\n",
    "    intervals.sort(key=lambda x: x[0])\n",
    "    # Merge overlapping or adjacent intervals\n",
    "    merged_intervals = []\n",
    "    current_start, current_end = intervals[0]\n",
    "    for start, end in intervals[1:]:\n",
    "        if start <= current_end:  # Overlapping or adjacent intervals\n",
    "            current_end = max(current_end, end)\n",
    "        else:  # Non-overlapping interval\n",
    "            merged_intervals.append((current_start, current_end))\n",
    "            current_start, current_end = start, end\n",
    "    # Add the last interval\n",
    "    merged_intervals.append((current_start, current_end))\n",
    "    # Calculate the total duration\n",
    "    total_time = sum(end - start for start, end in merged_intervals)\n",
    "    return total_time"
   ]
  },
  {
   "cell_type": "markdown",
   "id": "d810b7b5-fdec-4e79-8507-1eac43ede007",
   "metadata": {},
   "source": [
    "### UDF Application:"
   ]
  },
  {
   "cell_type": "code",
   "execution_count": 3,
   "id": "a724abdb-361e-4d09-8c24-6414c97e3500",
   "metadata": {},
   "outputs": [
    {
     "name": "stdout",
     "output_type": "stream",
     "text": [
      "- Interval:  (2, 3)\n",
      "- Interval:  (1, 2)\n",
      "- Interval:  (3, 6)\n",
      "- Interval:  (7, 8)\n",
      "\n",
      "- Given the here above intervals, the television is on for a total of \u001b[1;31m6\u001b[0m time units.\n"
     ]
    }
   ],
   "source": [
    "# Generate the intervals using the UDF gen_intervals:\n",
    "Intervals = gen_intervals(4)\n",
    "\n",
    "# Show the obtained random intervals:\n",
    "for tupla in Intervals:\n",
    "    print(\"- Interval: \", tupla)\n",
    "    \n",
    "# Apply the UDF total_tv_on_time using the obtained random intervals:\n",
    "print(f\"\\n- Given the here above intervals, the television is on for a total of \\033[1;31m{total_tv_on_time(Intervals)}\\033[0m time units.\")"
   ]
  }
 ],
 "metadata": {
  "kernelspec": {
   "display_name": "Python 3 (ipykernel)",
   "language": "python",
   "name": "python3"
  },
  "language_info": {
   "codemirror_mode": {
    "name": "ipython",
    "version": 3
   },
   "file_extension": ".py",
   "mimetype": "text/x-python",
   "name": "python",
   "nbconvert_exporter": "python",
   "pygments_lexer": "ipython3",
   "version": "3.11.7"
  }
 },
 "nbformat": 4,
 "nbformat_minor": 5
}
